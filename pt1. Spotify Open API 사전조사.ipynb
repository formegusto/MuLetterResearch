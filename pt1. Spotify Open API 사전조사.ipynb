{
 "cells": [
  {
   "cell_type": "code",
   "execution_count": 52,
   "id": "1d9ea172",
   "metadata": {},
   "outputs": [
    {
     "name": "stdout",
     "output_type": "stream",
     "text": [
      "The autoreload extension is already loaded. To reload it, use:\n",
      "  %reload_ext autoreload\n"
     ]
    }
   ],
   "source": [
    "%load_ext autoreload\n",
    "%autoreload 2\n",
    "%reload_ext autoreload\n",
    "\n",
    "from src import Spotify\n",
    "\n",
    "spotify = Spotify()"
   ]
  },
  {
   "cell_type": "markdown",
   "id": "49bce402",
   "metadata": {},
   "source": [
    "# token"
   ]
  },
  {
   "cell_type": "code",
   "execution_count": 53,
   "id": "50660b2a",
   "metadata": {},
   "outputs": [
    {
     "name": "stdout",
     "output_type": "stream",
     "text": [
      "{'access_token': 'BQBr_CP7oHrPuBusj8UkAP0rkWlv4TglhVB1KeiL38qFKT7-Tg6pbE5jhxyKGi1XTKlNLCQ1NKWMKfwAwO8',\n",
      " 'expires_in': 3600,\n",
      " 'token_type': 'Bearer'}\n"
     ]
    }
   ],
   "source": [
    "import json\n",
    "import requests as req\n",
    "import base64\n",
    "import pprint\n",
    "\n",
    "with open(\"auth.json\") as json_file:\n",
    "        json_data = json.load(json_file)\n",
    "\n",
    "client_data = \"{}:{}\".format(\n",
    "    json_data['CLIENT_ID'],\n",
    "    json_data['CLIENT_SECRET']\n",
    ")\n",
    "authorization = \"Basic \" + \\\n",
    "    base64.b64encode(client_data.encode('ascii')).decode(\"ascii\")\n",
    "\n",
    "res = req.post(\"https://accounts.spotify.com/api/token\",\n",
    "               data={\n",
    "                   \"grant_type\": 'client_credentials'\n",
    "               },\n",
    "               headers={\n",
    "                   'Authorization': authorization\n",
    "               })\n",
    "\n",
    "token = res.json()['access_token']\n",
    "pprint.pprint(res.json())"
   ]
  },
  {
   "cell_type": "markdown",
   "id": "9b346743",
   "metadata": {},
   "source": [
    "# search"
   ]
  },
  {
   "cell_type": "code",
   "execution_count": 54,
   "id": "5360ad2f",
   "metadata": {},
   "outputs": [],
   "source": [
    "import requests as req\n",
    "from urllib.parse import urlencode\n",
    "import pandas as pd\n",
    "\n",
    "search_uri = \"https://api.spotify.com/v1/search\"\n",
    "\n",
    "query = urlencode({\n",
    "    \"q\": \"10cm 서랍\",\n",
    "    \"type\": \"track\",\n",
    "    \"market\": \"KR\",\n",
    "    \"limit\": 10,\n",
    "    \"offset\": 0\n",
    "})\n",
    "headers = {\n",
    "    \"authorization\": \"Bearer {}\".format(token)\n",
    "}\n",
    "\n",
    "res = req.get(\"{}?{}\".format(search_uri, query), headers=headers)"
   ]
  },
  {
   "cell_type": "code",
   "execution_count": 55,
   "id": "371b57dd",
   "metadata": {},
   "outputs": [
    {
     "name": "stdout",
     "output_type": "stream",
     "text": [
      "계속하시려면 next, 종료는 exit를 입력해주세요.exit\n"
     ]
    },
    {
     "data": {
      "text/html": [
       "<div>\n",
       "<style scoped>\n",
       "    .dataframe tbody tr th:only-of-type {\n",
       "        vertical-align: middle;\n",
       "    }\n",
       "\n",
       "    .dataframe tbody tr th {\n",
       "        vertical-align: top;\n",
       "    }\n",
       "\n",
       "    .dataframe thead th {\n",
       "        text-align: right;\n",
       "    }\n",
       "</style>\n",
       "<table border=\"1\" class=\"dataframe\">\n",
       "  <thead>\n",
       "    <tr style=\"text-align: right;\">\n",
       "      <th></th>\n",
       "      <th>id</th>\n",
       "      <th>name</th>\n",
       "      <th>artists</th>\n",
       "      <th>artists_name</th>\n",
       "      <th>image</th>\n",
       "    </tr>\n",
       "  </thead>\n",
       "  <tbody>\n",
       "    <tr>\n",
       "      <th>0</th>\n",
       "      <td>2y4hHM6c48Qzk0bqh33XfB</td>\n",
       "      <td>Winter Sleep</td>\n",
       "      <td>3HqSLMAZ3g3d5poNaI7GOU</td>\n",
       "      <td>IU</td>\n",
       "      <td>https://i.scdn.co/image/ab67616d0000b2730d378c...</td>\n",
       "    </tr>\n",
       "    <tr>\n",
       "      <th>1</th>\n",
       "      <td>1OQ3PoRZRtE7RH0NIh3p1O</td>\n",
       "      <td>Drawer</td>\n",
       "      <td>6zn0ihyAApAYV51zpXxdEp</td>\n",
       "      <td>10cm</td>\n",
       "      <td>https://i.scdn.co/image/ab67616d0000b273b22853...</td>\n",
       "    </tr>\n",
       "  </tbody>\n",
       "</table>\n",
       "</div>"
      ],
      "text/plain": [
       "                       id          name                 artists artists_name  \\\n",
       "0  2y4hHM6c48Qzk0bqh33XfB  Winter Sleep  3HqSLMAZ3g3d5poNaI7GOU           IU   \n",
       "1  1OQ3PoRZRtE7RH0NIh3p1O        Drawer  6zn0ihyAApAYV51zpXxdEp         10cm   \n",
       "\n",
       "                                               image  \n",
       "0  https://i.scdn.co/image/ab67616d0000b2730d378c...  \n",
       "1  https://i.scdn.co/image/ab67616d0000b273b22853...  "
      ]
     },
     "execution_count": 55,
     "metadata": {},
     "output_type": "execute_result"
    }
   ],
   "source": [
    "spotify.search_tracks\n",
    "spotify.sel_tracks"
   ]
  },
  {
   "cell_type": "markdown",
   "id": "3ef4c857",
   "metadata": {},
   "source": [
    "# artists"
   ]
  },
  {
   "cell_type": "code",
   "execution_count": 56,
   "id": "6b8af160",
   "metadata": {},
   "outputs": [],
   "source": [
    "from functools import reduce\n",
    "\n",
    "ids = reduce(\n",
    "    lambda acc, cur: acc + cur + \",\",spotify.sel_tracks['artists'].values, \"\")[:-1]\n",
    "\n",
    "artists_uri = \"https://api.spotify.com/v1/artists\"\n",
    "query = urlencode({\n",
    "    \"ids\": ids\n",
    "})\n",
    "headers = {\n",
    "    \"authorization\": \"Bearer {}\".format(token)\n",
    "}\n",
    "\n",
    "res = req.get(\"{}?{}\".format(artists_uri, query), headers=headers)"
   ]
  },
  {
   "cell_type": "code",
   "execution_count": 57,
   "id": "f07a3554",
   "metadata": {},
   "outputs": [
    {
     "data": {
      "text/html": [
       "<div>\n",
       "<style scoped>\n",
       "    .dataframe tbody tr th:only-of-type {\n",
       "        vertical-align: middle;\n",
       "    }\n",
       "\n",
       "    .dataframe tbody tr th {\n",
       "        vertical-align: top;\n",
       "    }\n",
       "\n",
       "    .dataframe thead th {\n",
       "        text-align: right;\n",
       "    }\n",
       "</style>\n",
       "<table border=\"1\" class=\"dataframe\">\n",
       "  <thead>\n",
       "    <tr style=\"text-align: right;\">\n",
       "      <th></th>\n",
       "      <th>artists</th>\n",
       "      <th>genres</th>\n",
       "    </tr>\n",
       "  </thead>\n",
       "  <tbody>\n",
       "    <tr>\n",
       "      <th>0</th>\n",
       "      <td>3HqSLMAZ3g3d5poNaI7GOU</td>\n",
       "      <td>k-pop,pop</td>\n",
       "    </tr>\n",
       "    <tr>\n",
       "      <th>1</th>\n",
       "      <td>6zn0ihyAApAYV51zpXxdEp</td>\n",
       "      <td>k-pop,pop</td>\n",
       "    </tr>\n",
       "  </tbody>\n",
       "</table>\n",
       "</div>"
      ],
      "text/plain": [
       "                  artists     genres\n",
       "0  3HqSLMAZ3g3d5poNaI7GOU  k-pop,pop\n",
       "1  6zn0ihyAApAYV51zpXxdEp  k-pop,pop"
      ]
     },
     "execution_count": 57,
     "metadata": {},
     "output_type": "execute_result"
    }
   ],
   "source": [
    "spotify.get_genres\n",
    "spotify.genres"
   ]
  },
  {
   "cell_type": "markdown",
   "id": "758b5cd0",
   "metadata": {},
   "source": [
    "# audio features"
   ]
  },
  {
   "cell_type": "code",
   "execution_count": 60,
   "id": "db310169",
   "metadata": {},
   "outputs": [],
   "source": [
    "ids = reduce(\n",
    "    lambda acc, cur: acc + cur + \",\",spotify.sel_tracks['id'].values, \"\")[:-1]\n",
    "\n",
    "features_uri = \"https://api.spotify.com/v1/audio-features\"\n",
    "query = urlencode({\n",
    "    \"ids\": ids\n",
    "})\n",
    "headers = {\n",
    "    \"authorization\": \"Bearer {}\".format(token)\n",
    "}\n",
    "\n",
    "res = req.get(\"{}?{}\".format(features_uri, query), headers=headers)"
   ]
  },
  {
   "cell_type": "code",
   "execution_count": 61,
   "id": "9658e599",
   "metadata": {},
   "outputs": [
    {
     "data": {
      "text/html": [
       "<div>\n",
       "<style scoped>\n",
       "    .dataframe tbody tr th:only-of-type {\n",
       "        vertical-align: middle;\n",
       "    }\n",
       "\n",
       "    .dataframe tbody tr th {\n",
       "        vertical-align: top;\n",
       "    }\n",
       "\n",
       "    .dataframe thead th {\n",
       "        text-align: right;\n",
       "    }\n",
       "</style>\n",
       "<table border=\"1\" class=\"dataframe\">\n",
       "  <thead>\n",
       "    <tr style=\"text-align: right;\">\n",
       "      <th></th>\n",
       "      <th>id</th>\n",
       "      <th>danceability</th>\n",
       "      <th>energy</th>\n",
       "      <th>key</th>\n",
       "      <th>loudness</th>\n",
       "      <th>speechiness</th>\n",
       "      <th>acousticness</th>\n",
       "      <th>instrumentalness</th>\n",
       "      <th>liveness</th>\n",
       "      <th>valence</th>\n",
       "      <th>tempo</th>\n",
       "    </tr>\n",
       "  </thead>\n",
       "  <tbody>\n",
       "    <tr>\n",
       "      <th>0</th>\n",
       "      <td>2y4hHM6c48Qzk0bqh33XfB</td>\n",
       "      <td>0.539</td>\n",
       "      <td>0.237</td>\n",
       "      <td>0</td>\n",
       "      <td>-8.452</td>\n",
       "      <td>0.0273</td>\n",
       "      <td>0.820</td>\n",
       "      <td>0</td>\n",
       "      <td>0.345</td>\n",
       "      <td>0.259</td>\n",
       "      <td>68.045</td>\n",
       "    </tr>\n",
       "    <tr>\n",
       "      <th>1</th>\n",
       "      <td>1OQ3PoRZRtE7RH0NIh3p1O</td>\n",
       "      <td>0.359</td>\n",
       "      <td>0.469</td>\n",
       "      <td>7</td>\n",
       "      <td>-8.060</td>\n",
       "      <td>0.0326</td>\n",
       "      <td>0.745</td>\n",
       "      <td>0</td>\n",
       "      <td>0.101</td>\n",
       "      <td>0.259</td>\n",
       "      <td>84.366</td>\n",
       "    </tr>\n",
       "  </tbody>\n",
       "</table>\n",
       "</div>"
      ],
      "text/plain": [
       "                       id  danceability  energy  key  loudness  speechiness  \\\n",
       "0  2y4hHM6c48Qzk0bqh33XfB         0.539   0.237    0    -8.452       0.0273   \n",
       "1  1OQ3PoRZRtE7RH0NIh3p1O         0.359   0.469    7    -8.060       0.0326   \n",
       "\n",
       "   acousticness  instrumentalness  liveness  valence   tempo  \n",
       "0         0.820                 0     0.345    0.259  68.045  \n",
       "1         0.745                 0     0.101    0.259  84.366  "
      ]
     },
     "execution_count": 61,
     "metadata": {},
     "output_type": "execute_result"
    }
   ],
   "source": [
    "spotify.get_features\n",
    "spotify.features"
   ]
  },
  {
   "cell_type": "markdown",
   "id": "2dd2c17a",
   "metadata": {},
   "source": [
    "# recommendations"
   ]
  },
  {
   "cell_type": "code",
   "execution_count": 88,
   "id": "2bb15f74",
   "metadata": {},
   "outputs": [],
   "source": [
    "tracks = spotify.sel_tracks\n",
    "genres = spotify.genres\n",
    "features = spotify.features"
   ]
  },
  {
   "cell_type": "code",
   "execution_count": 89,
   "id": "52cb1faa",
   "metadata": {},
   "outputs": [
    {
     "name": "stdout",
     "output_type": "stream",
     "text": [
      "<class 'pandas.core.frame.DataFrame'>\n",
      "Int64Index: 2 entries, 0 to 1\n",
      "Data columns (total 16 columns):\n",
      " #   Column            Non-Null Count  Dtype  \n",
      "---  ------            --------------  -----  \n",
      " 0   id                2 non-null      object \n",
      " 1   name              2 non-null      object \n",
      " 2   artists           2 non-null      object \n",
      " 3   artists_name      2 non-null      object \n",
      " 4   image             2 non-null      object \n",
      " 5   genres            2 non-null      object \n",
      " 6   danceability      2 non-null      float64\n",
      " 7   energy            2 non-null      float64\n",
      " 8   key               2 non-null      int64  \n",
      " 9   loudness          2 non-null      float64\n",
      " 10  speechiness       2 non-null      float64\n",
      " 11  acousticness      2 non-null      float64\n",
      " 12  instrumentalness  2 non-null      int64  \n",
      " 13  liveness          2 non-null      float64\n",
      " 14  valence           2 non-null      float64\n",
      " 15  tempo             2 non-null      float64\n",
      "dtypes: float64(8), int64(2), object(6)\n",
      "memory usage: 272.0+ bytes\n"
     ]
    }
   ],
   "source": [
    "merges = pd.merge(tracks, genres, on=\"artists\")\n",
    "merges = pd.merge(merges, features, on=\"id\")\n",
    "\n",
    "merges.info()"
   ]
  },
  {
   "cell_type": "code",
   "execution_count": 90,
   "id": "dbb4240e",
   "metadata": {},
   "outputs": [
    {
     "name": "stdout",
     "output_type": "stream",
     "text": [
      "<class 'pandas.core.frame.DataFrame'>\n",
      "Int64Index: 2 entries, 0 to 1\n",
      "Data columns (total 13 columns):\n",
      " #   Column            Non-Null Count  Dtype  \n",
      "---  ------            --------------  -----  \n",
      " 0   seed_tracks       2 non-null      object \n",
      " 1   seed_artists      2 non-null      object \n",
      " 2   seed_genres       2 non-null      object \n",
      " 3   acousticness      2 non-null      float64\n",
      " 4   danceability      2 non-null      float64\n",
      " 5   energy            2 non-null      float64\n",
      " 6   instrumentalness  2 non-null      int64  \n",
      " 7   key               2 non-null      int64  \n",
      " 8   liveness          2 non-null      float64\n",
      " 9   loudness          2 non-null      float64\n",
      " 10  speechiness       2 non-null      float64\n",
      " 11  tempo             2 non-null      float64\n",
      " 12  valence           2 non-null      float64\n",
      "dtypes: float64(8), int64(2), object(3)\n",
      "memory usage: 224.0+ bytes\n"
     ]
    }
   ],
   "source": [
    "seed_cols = ['id', 'artists', 'genres']\n",
    "feature_cols = ['acousticness', 'danceability', 'energy', \n",
    "                'instrumentalness','key', 'liveness', 'loudness', \n",
    "                'speechiness', 'tempo', 'valence']\n",
    "\n",
    "merges = merges[seed_cols + feature_cols]\n",
    "for seed_col in seed_cols:\n",
    "    if seed_col == \"id\":\n",
    "        change_col = \"seed_tracks\"\n",
    "    else:\n",
    "        change_col = \"seed_{}\".format(seed_col)\n",
    "    merges.rename({seed_col : change_col}, axis=1, inplace=True)\n",
    "    \n",
    "merges.info()"
   ]
  },
  {
   "cell_type": "code",
   "execution_count": 91,
   "id": "89481cdc",
   "metadata": {},
   "outputs": [],
   "source": [
    "reco_uri = \"https://api.spotify.com/v1/recommendations\"\n",
    "\n",
    "for idx in range(len(merges)):\n",
    "    query = merges.iloc[idx].to_dict()\n",
    "    query['market'] = 'KR'\n",
    "    query['limit'] = 100\n",
    "    \n",
    "    query = urlencode(query)\n",
    "    headers = {\n",
    "        \"authorization\": \"Bearer {}\".format(token)\n",
    "    }\n",
    "    res = req.get(\"{}?{}\".format(reco_uri, query), headers=headers)"
   ]
  },
  {
   "cell_type": "code",
   "execution_count": 94,
   "id": "b4533878",
   "metadata": {},
   "outputs": [
    {
     "data": {
      "text/html": [
       "<div>\n",
       "<style scoped>\n",
       "    .dataframe tbody tr th:only-of-type {\n",
       "        vertical-align: middle;\n",
       "    }\n",
       "\n",
       "    .dataframe tbody tr th {\n",
       "        vertical-align: top;\n",
       "    }\n",
       "\n",
       "    .dataframe thead th {\n",
       "        text-align: right;\n",
       "    }\n",
       "</style>\n",
       "<table border=\"1\" class=\"dataframe\">\n",
       "  <thead>\n",
       "    <tr style=\"text-align: right;\">\n",
       "      <th></th>\n",
       "      <th>id</th>\n",
       "      <th>name</th>\n",
       "      <th>artists</th>\n",
       "      <th>artists_name</th>\n",
       "      <th>image</th>\n",
       "    </tr>\n",
       "  </thead>\n",
       "  <tbody>\n",
       "    <tr>\n",
       "      <th>0</th>\n",
       "      <td>1cayXr914ctuYeJkv3CPUR</td>\n",
       "      <td>Rest</td>\n",
       "      <td>6dhfy4ByARPJdPtMyrUYJK</td>\n",
       "      <td>Yerin Baek</td>\n",
       "      <td>https://i.scdn.co/image/ab67616d0000b273654022...</td>\n",
       "    </tr>\n",
       "    <tr>\n",
       "      <th>2</th>\n",
       "      <td>1e5qALs3pDrv203jX0XWAC</td>\n",
       "      <td>Autumn Breeze</td>\n",
       "      <td>0hRHbwZ0xSwfVHl4FTv7jq</td>\n",
       "      <td>Gummy</td>\n",
       "      <td>https://i.scdn.co/image/ab67616d0000b27339f1cc...</td>\n",
       "    </tr>\n",
       "    <tr>\n",
       "      <th>3</th>\n",
       "      <td>5AkyvofVWUqds8x1HHgDU9</td>\n",
       "      <td>Me After You</td>\n",
       "      <td>4qRXrzUmdy3p33lgvJEzdv</td>\n",
       "      <td>Paul Kim</td>\n",
       "      <td>https://i.scdn.co/image/ab67616d0000b27328ca61...</td>\n",
       "    </tr>\n",
       "    <tr>\n",
       "      <th>4</th>\n",
       "      <td>30aVEUz4NgkGuegz32gjl8</td>\n",
       "      <td>If you're with me</td>\n",
       "      <td>7jFUYMpMUBDL4JQtMZ5ilc</td>\n",
       "      <td>Sung Si Kyung</td>\n",
       "      <td>https://i.scdn.co/image/ab67616d0000b2736c6340...</td>\n",
       "    </tr>\n",
       "    <tr>\n",
       "      <th>5</th>\n",
       "      <td>5BqwC9kOBbqYkzdOKeXFFk</td>\n",
       "      <td>for lovers who hesitate</td>\n",
       "      <td>2SY6OktZyMLdOnscX3DCyS</td>\n",
       "      <td>JANNABI</td>\n",
       "      <td>https://i.scdn.co/image/ab67616d0000b273f694ad...</td>\n",
       "    </tr>\n",
       "  </tbody>\n",
       "</table>\n",
       "</div>"
      ],
      "text/plain": [
       "                       id                     name                 artists  \\\n",
       "0  1cayXr914ctuYeJkv3CPUR                     Rest  6dhfy4ByARPJdPtMyrUYJK   \n",
       "2  1e5qALs3pDrv203jX0XWAC            Autumn Breeze  0hRHbwZ0xSwfVHl4FTv7jq   \n",
       "3  5AkyvofVWUqds8x1HHgDU9             Me After You  4qRXrzUmdy3p33lgvJEzdv   \n",
       "4  30aVEUz4NgkGuegz32gjl8        If you're with me  7jFUYMpMUBDL4JQtMZ5ilc   \n",
       "5  5BqwC9kOBbqYkzdOKeXFFk  for lovers who hesitate  2SY6OktZyMLdOnscX3DCyS   \n",
       "\n",
       "    artists_name                                              image  \n",
       "0     Yerin Baek  https://i.scdn.co/image/ab67616d0000b273654022...  \n",
       "2          Gummy  https://i.scdn.co/image/ab67616d0000b27339f1cc...  \n",
       "3       Paul Kim  https://i.scdn.co/image/ab67616d0000b27328ca61...  \n",
       "4  Sung Si Kyung  https://i.scdn.co/image/ab67616d0000b2736c6340...  \n",
       "5        JANNABI  https://i.scdn.co/image/ab67616d0000b273f694ad...  "
      ]
     },
     "execution_count": 94,
     "metadata": {},
     "output_type": "execute_result"
    }
   ],
   "source": [
    "spotify.get_reco_tracks\n",
    "spotify.reco_tracks.head()"
   ]
  }
 ],
 "metadata": {
  "kernelspec": {
   "display_name": "Python 3 (ipykernel)",
   "language": "python",
   "name": "python3"
  },
  "language_info": {
   "codemirror_mode": {
    "name": "ipython",
    "version": 3
   },
   "file_extension": ".py",
   "mimetype": "text/x-python",
   "name": "python",
   "nbconvert_exporter": "python",
   "pygments_lexer": "ipython3",
   "version": "3.8.12"
  }
 },
 "nbformat": 4,
 "nbformat_minor": 5
}
