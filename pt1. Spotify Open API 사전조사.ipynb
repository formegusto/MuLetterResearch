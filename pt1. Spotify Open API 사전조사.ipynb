{
 "cells": [
  {
   "cell_type": "code",
   "execution_count": 31,
   "id": "1d9ea172",
   "metadata": {},
   "outputs": [
    {
     "name": "stdout",
     "output_type": "stream",
     "text": [
      "The autoreload extension is already loaded. To reload it, use:\n",
      "  %reload_ext autoreload\n"
     ]
    }
   ],
   "source": [
    "%load_ext autoreload\n",
    "%autoreload 2\n",
    "%reload_ext autoreload\n",
    "\n",
    "from src import Spotify\n",
    "\n",
    "spotify = Spotify()"
   ]
  },
  {
   "cell_type": "markdown",
   "id": "49bce402",
   "metadata": {},
   "source": [
    "# token"
   ]
  },
  {
   "cell_type": "code",
   "execution_count": 21,
   "id": "50660b2a",
   "metadata": {},
   "outputs": [
    {
     "name": "stdout",
     "output_type": "stream",
     "text": [
      "{'access_token': 'BQDSWTtUKII1LtM6P2Ii3Ht6tN3GMnhtu2gILTskpbo0XgTvt6fcXn5kp6m2qyZ-VkkZIheaCTSnw4wHirc',\n",
      " 'expires_in': 3600,\n",
      " 'token_type': 'Bearer'}\n"
     ]
    }
   ],
   "source": [
    "import json\n",
    "import requests as req\n",
    "import base64\n",
    "import pprint\n",
    "\n",
    "with open(\"auth.json\") as json_file:\n",
    "        json_data = json.load(json_file)\n",
    "\n",
    "client_data = \"{}:{}\".format(\n",
    "    json_data['CLIENT_ID'],\n",
    "    json_data['CLIENT_SECRET']\n",
    ")\n",
    "authorization = \"Basic \" + \\\n",
    "    base64.b64encode(client_data.encode('ascii')).decode(\"ascii\")\n",
    "\n",
    "res = req.post(\"https://accounts.spotify.com/api/token\",\n",
    "               data={\n",
    "                   \"grant_type\": 'client_credentials'\n",
    "               },\n",
    "               headers={\n",
    "                   'Authorization': authorization\n",
    "               })\n",
    "\n",
    "token = res.json()['access_token']\n",
    "pprint.pprint(res.json())"
   ]
  },
  {
   "cell_type": "markdown",
   "id": "9b346743",
   "metadata": {},
   "source": [
    "# search"
   ]
  },
  {
   "cell_type": "code",
   "execution_count": 23,
   "id": "5360ad2f",
   "metadata": {},
   "outputs": [],
   "source": [
    "import requests as req\n",
    "from urllib.parse import urlencode\n",
    "import pandas as pd\n",
    "\n",
    "search_uri = \"https://api.spotify.com/v1/search\"\n",
    "\n",
    "query = urlencode({\n",
    "    \"q\": \"10cm 서랍\",\n",
    "    \"type\": \"track\",\n",
    "    \"market\": \"KR\",\n",
    "    \"limit\": 10,\n",
    "    \"offset\": 0\n",
    "})\n",
    "headers = {\n",
    "    \"authorization\": \"Bearer {}\".format(token)\n",
    "}\n",
    "\n",
    "res = req.get(\"{}?{}\".format(search_uri, query), headers=headers)"
   ]
  },
  {
   "cell_type": "code",
   "execution_count": 35,
   "id": "de0557cd",
   "metadata": {},
   "outputs": [
    {
     "name": "stdout",
     "output_type": "stream",
     "text": [
      "계속하시려면 next, 종료는 exit를 입력해주세요.exit\n"
     ]
    },
    {
     "data": {
      "text/html": [
       "<div>\n",
       "<style scoped>\n",
       "    .dataframe tbody tr th:only-of-type {\n",
       "        vertical-align: middle;\n",
       "    }\n",
       "\n",
       "    .dataframe tbody tr th {\n",
       "        vertical-align: top;\n",
       "    }\n",
       "\n",
       "    .dataframe thead th {\n",
       "        text-align: right;\n",
       "    }\n",
       "</style>\n",
       "<table border=\"1\" class=\"dataframe\">\n",
       "  <thead>\n",
       "    <tr style=\"text-align: right;\">\n",
       "      <th></th>\n",
       "      <th>id</th>\n",
       "      <th>name</th>\n",
       "      <th>artists</th>\n",
       "      <th>artists_name</th>\n",
       "      <th>image</th>\n",
       "    </tr>\n",
       "  </thead>\n",
       "  <tbody>\n",
       "    <tr>\n",
       "      <th>0</th>\n",
       "      <td>1OQ3PoRZRtE7RH0NIh3p1O</td>\n",
       "      <td>Drawer</td>\n",
       "      <td>6zn0ihyAApAYV51zpXxdEp</td>\n",
       "      <td>10cm</td>\n",
       "      <td>https://i.scdn.co/image/ab67616d0000b273b22853...</td>\n",
       "    </tr>\n",
       "    <tr>\n",
       "      <th>1</th>\n",
       "      <td>2y4hHM6c48Qzk0bqh33XfB</td>\n",
       "      <td>Winter Sleep</td>\n",
       "      <td>3HqSLMAZ3g3d5poNaI7GOU</td>\n",
       "      <td>IU</td>\n",
       "      <td>https://i.scdn.co/image/ab67616d0000b2730d378c...</td>\n",
       "    </tr>\n",
       "  </tbody>\n",
       "</table>\n",
       "</div>"
      ],
      "text/plain": [
       "                       id          name                 artists artists_name  \\\n",
       "0  1OQ3PoRZRtE7RH0NIh3p1O        Drawer  6zn0ihyAApAYV51zpXxdEp         10cm   \n",
       "1  2y4hHM6c48Qzk0bqh33XfB  Winter Sleep  3HqSLMAZ3g3d5poNaI7GOU           IU   \n",
       "\n",
       "                                               image  \n",
       "0  https://i.scdn.co/image/ab67616d0000b273b22853...  \n",
       "1  https://i.scdn.co/image/ab67616d0000b2730d378c...  "
      ]
     },
     "execution_count": 35,
     "metadata": {},
     "output_type": "execute_result"
    }
   ],
   "source": [
    "spotify.search_tracks\n",
    "spotify.sel_tracks"
   ]
  },
  {
   "cell_type": "code",
   "execution_count": null,
   "id": "a8704112",
   "metadata": {},
   "outputs": [],
   "source": []
  }
 ],
 "metadata": {
  "kernelspec": {
   "display_name": "Python 3 (ipykernel)",
   "language": "python",
   "name": "python3"
  },
  "language_info": {
   "codemirror_mode": {
    "name": "ipython",
    "version": 3
   },
   "file_extension": ".py",
   "mimetype": "text/x-python",
   "name": "python",
   "nbconvert_exporter": "python",
   "pygments_lexer": "ipython3",
   "version": "3.8.12"
  }
 },
 "nbformat": 4,
 "nbformat_minor": 5
}
